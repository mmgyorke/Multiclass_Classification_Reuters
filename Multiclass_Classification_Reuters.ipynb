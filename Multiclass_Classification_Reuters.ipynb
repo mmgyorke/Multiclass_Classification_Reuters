{
  "nbformat": 4,
  "nbformat_minor": 0,
  "metadata": {
    "colab": {
      "name": "Multiclass_Classification_Reuters.ipynb",
      "provenance": []
    },
    "kernelspec": {
      "name": "python3",
      "display_name": "Python 3"
    },
    "language_info": {
      "name": "python"
    }
  },
  "cells": [
    {
      "cell_type": "code",
      "metadata": {
        "id": "7joJuTz7bowO"
      },
      "source": [
        ""
      ],
      "execution_count": null,
      "outputs": []
    },
    {
      "cell_type": "markdown",
      "metadata": {
        "id": "ciEHXqYUb2d0"
      },
      "source": [
        "**Multiclass classification using the Reuters dataset**"
      ]
    },
    {
      "cell_type": "code",
      "metadata": {
        "id": "jdtNAOZmcDpA"
      },
      "source": [
        "import tensorflow as tf\n",
        "from tensorflow import keras\n",
        "from tensorflow.keras import layers"
      ],
      "execution_count": 1,
      "outputs": []
    },
    {
      "cell_type": "code",
      "metadata": {
        "id": "bBmfdAEocJSg"
      },
      "source": [
        "from keras.datasets import reuters"
      ],
      "execution_count": 2,
      "outputs": []
    },
    {
      "cell_type": "code",
      "metadata": {
        "colab": {
          "base_uri": "https://localhost:8080/"
        },
        "id": "pPqJJ1IZcQX1",
        "outputId": "a5e89f75-bf4d-4296-e635-71afc8964fec"
      },
      "source": [
        "(train_data, train_labels), (test_data, test_labels) = reuters.load_data(num_words=10000)"
      ],
      "execution_count": 3,
      "outputs": [
        {
          "output_type": "stream",
          "text": [
            "Downloading data from https://storage.googleapis.com/tensorflow/tf-keras-datasets/reuters.npz\n",
            "2113536/2110848 [==============================] - 0s 0us/step\n"
          ],
          "name": "stdout"
        },
        {
          "output_type": "stream",
          "text": [
            "/usr/local/lib/python3.7/dist-packages/tensorflow/python/keras/datasets/reuters.py:148: VisibleDeprecationWarning: Creating an ndarray from ragged nested sequences (which is a list-or-tuple of lists-or-tuples-or ndarrays with different lengths or shapes) is deprecated. If you meant to do this, you must specify 'dtype=object' when creating the ndarray\n",
            "  x_train, y_train = np.array(xs[:idx]), np.array(labels[:idx])\n",
            "/usr/local/lib/python3.7/dist-packages/tensorflow/python/keras/datasets/reuters.py:149: VisibleDeprecationWarning: Creating an ndarray from ragged nested sequences (which is a list-or-tuple of lists-or-tuples-or ndarrays with different lengths or shapes) is deprecated. If you meant to do this, you must specify 'dtype=object' when creating the ndarray\n",
            "  x_test, y_test = np.array(xs[idx:]), np.array(labels[idx:])\n"
          ],
          "name": "stderr"
        }
      ]
    },
    {
      "cell_type": "code",
      "metadata": {
        "colab": {
          "base_uri": "https://localhost:8080/"
        },
        "id": "3WzDm1_lcaGq",
        "outputId": "5f12f568-44e8-4e87-c204-df5ec69e8ae2"
      },
      "source": [
        "len(train_data)"
      ],
      "execution_count": 4,
      "outputs": [
        {
          "output_type": "execute_result",
          "data": {
            "text/plain": [
              "8982"
            ]
          },
          "metadata": {
            "tags": []
          },
          "execution_count": 4
        }
      ]
    },
    {
      "cell_type": "code",
      "metadata": {
        "colab": {
          "base_uri": "https://localhost:8080/"
        },
        "id": "IZAH0ZESccng",
        "outputId": "be374cea-22f5-4a4e-fdbc-efdfd3e39c4d"
      },
      "source": [
        "len(test_data)"
      ],
      "execution_count": 5,
      "outputs": [
        {
          "output_type": "execute_result",
          "data": {
            "text/plain": [
              "2246"
            ]
          },
          "metadata": {
            "tags": []
          },
          "execution_count": 5
        }
      ]
    },
    {
      "cell_type": "code",
      "metadata": {
        "colab": {
          "base_uri": "https://localhost:8080/"
        },
        "id": "dR1mceajcd0W",
        "outputId": "cf2f76bf-3e83-4eae-cc40-ce957d36cd47"
      },
      "source": [
        "train_data[10]"
      ],
      "execution_count": 7,
      "outputs": [
        {
          "output_type": "execute_result",
          "data": {
            "text/plain": [
              "[1,\n",
              " 245,\n",
              " 273,\n",
              " 207,\n",
              " 156,\n",
              " 53,\n",
              " 74,\n",
              " 160,\n",
              " 26,\n",
              " 14,\n",
              " 46,\n",
              " 296,\n",
              " 26,\n",
              " 39,\n",
              " 74,\n",
              " 2979,\n",
              " 3554,\n",
              " 14,\n",
              " 46,\n",
              " 4689,\n",
              " 4329,\n",
              " 86,\n",
              " 61,\n",
              " 3499,\n",
              " 4795,\n",
              " 14,\n",
              " 61,\n",
              " 451,\n",
              " 4329,\n",
              " 17,\n",
              " 12]"
            ]
          },
          "metadata": {
            "tags": []
          },
          "execution_count": 7
        }
      ]
    },
    {
      "cell_type": "code",
      "metadata": {
        "id": "Cn8lJe-8crij"
      },
      "source": [
        "# Decode newswires back to text\n",
        "word_index = reuters.get_word_index()\n",
        "reverse_word_index = dict([(value, key) for (key, value) in word_index.items()])\n",
        "decoded_newswire = ' '.join([reverse_word_index.get(i - 3, '?') for i in train_data[0]])"
      ],
      "execution_count": 9,
      "outputs": []
    },
    {
      "cell_type": "code",
      "metadata": {
        "colab": {
          "base_uri": "https://localhost:8080/"
        },
        "id": "ZoGTve3odLrH",
        "outputId": "f5014609-6830-402d-f9bf-d1b8fb124185"
      },
      "source": [
        "train_labels[10]"
      ],
      "execution_count": 10,
      "outputs": [
        {
          "output_type": "execute_result",
          "data": {
            "text/plain": [
              "3"
            ]
          },
          "metadata": {
            "tags": []
          },
          "execution_count": 10
        }
      ]
    },
    {
      "cell_type": "code",
      "metadata": {
        "id": "bZVs1H_3dSut"
      },
      "source": [
        "# Encoding the data\n",
        "# vectorize data\n",
        "import numpy as np\n",
        "\n",
        "def vectorize_sequences(sequences, dimension=10000):\n",
        "  results = np.zeros((len(sequences), dimension))\n",
        "  for i, sequence in enumerate(sequences):\n",
        "    results[i, sequence] = 1.\n",
        "  return results"
      ],
      "execution_count": 12,
      "outputs": []
    },
    {
      "cell_type": "code",
      "metadata": {
        "id": "cjkQ2K6adU3H"
      },
      "source": [
        "x_train = vectorize_sequences(train_data)\n",
        "x_test = vectorize_sequences(test_data)"
      ],
      "execution_count": 13,
      "outputs": []
    },
    {
      "cell_type": "code",
      "metadata": {
        "id": "74JVDEY9d9i5"
      },
      "source": [
        "# one-hot encode the labels\n",
        "def to_one_hot(labels, dimension=46):\n",
        "  results = np.zeros((len(labels), dimension))\n",
        "  for i, label in enumerate(labels):\n",
        "    results[i, label] = 1.\n",
        "  return results"
      ],
      "execution_count": 16,
      "outputs": []
    },
    {
      "cell_type": "code",
      "metadata": {
        "id": "d8fuSWQseahF"
      },
      "source": [
        "one_hot_train_labels = to_one_hot(train_labels)\n",
        "one_hot_test_labels = to_one_hot(test_labels)"
      ],
      "execution_count": 17,
      "outputs": []
    },
    {
      "cell_type": "code",
      "metadata": {
        "id": "yQlwD0mnekyY"
      },
      "source": [
        "# define the model\n",
        "# 46 output classes, dimensionality is much higher\n",
        "# going with 64 units\n",
        "\n",
        "from keras import models\n",
        "from keras import layers\n",
        "\n",
        "model = models.Sequential()\n",
        "model.add(layers.Dense(64, activation='relu', input_shape=(10000,)))\n",
        "model.add(layers.Dense(64, activation='relu'))\n",
        "model.add(layers.Dense(46, activation='softmax'))\n",
        "\n",
        "# for every input sample, the network will produce a 46-dimensional output vector\n",
        "# output[i] is the probability that the sample belongs to class i. \n",
        "# the 46 scores will sum to 1, by using softmax activation\n"
      ],
      "execution_count": 19,
      "outputs": []
    },
    {
      "cell_type": "code",
      "metadata": {
        "id": "aW35-BlGfpOY"
      },
      "source": [
        "model.compile(optimizer='rmsprop',\n",
        "              loss='categorical_crossentropy',\n",
        "              metrics=['accuracy'])"
      ],
      "execution_count": 24,
      "outputs": []
    },
    {
      "cell_type": "code",
      "metadata": {
        "id": "LOBMbxJLgcBY"
      },
      "source": [
        "# set aside validation set\n",
        "x_val = x_train[:1000]\n",
        "partial_x_train = x_train[1000:]\n",
        "\n",
        "y_val = one_hot_train_labels[:1000]\n",
        "partial_y_train = one_hot_train_labels[1000:]\n"
      ],
      "execution_count": 25,
      "outputs": []
    },
    {
      "cell_type": "code",
      "metadata": {
        "colab": {
          "base_uri": "https://localhost:8080/"
        },
        "id": "h-996mwqhNO3",
        "outputId": "1d8aa8f3-ba1b-4993-8054-97b85fe48be0"
      },
      "source": [
        "# train the model\n",
        "history = model.fit(partial_x_train,\n",
        "                    partial_y_train,\n",
        "                    epochs=20,\n",
        "                    batch_size=512,\n",
        "                    validation_data=(x_val, y_val))"
      ],
      "execution_count": 26,
      "outputs": [
        {
          "output_type": "stream",
          "text": [
            "Epoch 1/20\n",
            "16/16 [==============================] - 2s 75ms/step - loss: 3.2132 - accuracy: 0.4176 - val_loss: 1.8152 - val_accuracy: 0.6510\n",
            "Epoch 2/20\n",
            "16/16 [==============================] - 1s 47ms/step - loss: 1.5456 - accuracy: 0.7020 - val_loss: 1.3161 - val_accuracy: 0.7210\n",
            "Epoch 3/20\n",
            "16/16 [==============================] - 1s 47ms/step - loss: 1.1039 - accuracy: 0.7715 - val_loss: 1.1460 - val_accuracy: 0.7580\n",
            "Epoch 4/20\n",
            "16/16 [==============================] - 1s 47ms/step - loss: 0.8542 - accuracy: 0.8230 - val_loss: 1.0461 - val_accuracy: 0.7790\n",
            "Epoch 5/20\n",
            "16/16 [==============================] - 1s 48ms/step - loss: 0.6821 - accuracy: 0.8611 - val_loss: 0.9850 - val_accuracy: 0.7980\n",
            "Epoch 6/20\n",
            "16/16 [==============================] - 1s 47ms/step - loss: 0.5383 - accuracy: 0.8915 - val_loss: 0.9358 - val_accuracy: 0.8070\n",
            "Epoch 7/20\n",
            "16/16 [==============================] - 1s 47ms/step - loss: 0.4194 - accuracy: 0.9164 - val_loss: 0.9834 - val_accuracy: 0.7940\n",
            "Epoch 8/20\n",
            "16/16 [==============================] - 1s 48ms/step - loss: 0.3552 - accuracy: 0.9287 - val_loss: 0.9237 - val_accuracy: 0.8140\n",
            "Epoch 9/20\n",
            "16/16 [==============================] - 1s 47ms/step - loss: 0.2867 - accuracy: 0.9418 - val_loss: 0.9682 - val_accuracy: 0.8050\n",
            "Epoch 10/20\n",
            "16/16 [==============================] - 1s 47ms/step - loss: 0.2444 - accuracy: 0.9453 - val_loss: 0.9484 - val_accuracy: 0.8100\n",
            "Epoch 11/20\n",
            "16/16 [==============================] - 1s 47ms/step - loss: 0.2169 - accuracy: 0.9502 - val_loss: 0.9478 - val_accuracy: 0.8130\n",
            "Epoch 12/20\n",
            "16/16 [==============================] - 1s 46ms/step - loss: 0.1984 - accuracy: 0.9495 - val_loss: 0.9701 - val_accuracy: 0.8090\n",
            "Epoch 13/20\n",
            "16/16 [==============================] - 1s 47ms/step - loss: 0.1671 - accuracy: 0.9555 - val_loss: 1.0114 - val_accuracy: 0.8030\n",
            "Epoch 14/20\n",
            "16/16 [==============================] - 1s 48ms/step - loss: 0.1421 - accuracy: 0.9618 - val_loss: 0.9945 - val_accuracy: 0.8110\n",
            "Epoch 15/20\n",
            "16/16 [==============================] - 1s 46ms/step - loss: 0.1354 - accuracy: 0.9625 - val_loss: 1.0088 - val_accuracy: 0.8080\n",
            "Epoch 16/20\n",
            "16/16 [==============================] - 1s 47ms/step - loss: 0.1209 - accuracy: 0.9643 - val_loss: 1.1514 - val_accuracy: 0.7890\n",
            "Epoch 17/20\n",
            "16/16 [==============================] - 1s 47ms/step - loss: 0.1268 - accuracy: 0.9564 - val_loss: 1.0907 - val_accuracy: 0.8030\n",
            "Epoch 18/20\n",
            "16/16 [==============================] - 1s 47ms/step - loss: 0.1086 - accuracy: 0.9626 - val_loss: 1.0853 - val_accuracy: 0.8070\n",
            "Epoch 19/20\n",
            "16/16 [==============================] - 1s 48ms/step - loss: 0.1110 - accuracy: 0.9605 - val_loss: 1.0949 - val_accuracy: 0.7980\n",
            "Epoch 20/20\n",
            "16/16 [==============================] - 1s 46ms/step - loss: 0.1046 - accuracy: 0.9632 - val_loss: 1.1289 - val_accuracy: 0.8010\n"
          ],
          "name": "stdout"
        }
      ]
    },
    {
      "cell_type": "code",
      "metadata": {
        "id": "94kkeW5khhRE"
      },
      "source": [
        "# starts to overfit around 8 or 9 epochs"
      ],
      "execution_count": 27,
      "outputs": []
    },
    {
      "cell_type": "code",
      "metadata": {
        "colab": {
          "base_uri": "https://localhost:8080/",
          "height": 295
        },
        "id": "rOK1Rsmdh2HT",
        "outputId": "19ac1b58-f91e-41c3-d66f-ecf06549845e"
      },
      "source": [
        "import matplotlib.pyplot as plt\n",
        "\n",
        "loss = history.history['loss']\n",
        "val_loss = history.history['val_loss']\n",
        "\n",
        "epochs = range(1, len(loss) + 1)\n",
        "\n",
        "plt.plot(epochs, loss, 'bo', label='Training loss')\n",
        "plt.plot(epochs, val_loss, 'b', label='Validation loss')\n",
        "plt.title('Training and validation loss')\n",
        "plt.xlabel('Epochs')\n",
        "plt.ylabel('Loss')\n",
        "plt.legend()\n",
        "\n",
        "plt.show()"
      ],
      "execution_count": 28,
      "outputs": [
        {
          "output_type": "display_data",
          "data": {
            "image/png": "[encoded data removed]",
            "text/plain": [
              "<Figure size 432x288 with 1 Axes>"
            ]
          },
          "metadata": {
            "tags": [],
            "needs_background": "light"
          }
        }
      ]
    },
    {
      "cell_type": "code",
      "metadata": {
        "colab": {
          "base_uri": "https://localhost:8080/",
          "height": 295
        },
        "id": "Q_FlvooUiZJs",
        "outputId": "ce18aa26-d543-49da-a10c-28d7cd670ee5"
      },
      "source": [
        "plt.clf()\n",
        "\n",
        "acc = history.history['accuracy']\n",
        "val_acc = history.history['val_accuracy']\n",
        "\n",
        "plt.plot(epochs, acc, 'bo', label='Training acc')\n",
        "plt.plot(epochs, val_acc, 'b', label='Validation acc')\n",
        "plt.title('Training and validation accuracy')\n",
        "plt.xlabel('Epochs')\n",
        "plt.ylabel('Loss')\n",
        "plt.legend()\n",
        "\n",
        "plt.show()"
      ],
      "execution_count": 34,
      "outputs": [
        {
          "output_type": "display_data",
          "data": {
            "image/png": "[encoded data removed]",
            "text/plain": [
              "<Figure size 432x288 with 1 Axes>"
            ]
          },
          "metadata": {
            "tags": [],
            "needs_background": "light"
          }
        }
      ]
    },
    {
      "cell_type": "code",
      "metadata": {
        "colab": {
          "base_uri": "https://localhost:8080/"
        },
        "id": "FdETuK2Yi0ht",
        "outputId": "f8ebeaca-977c-4ff4-c0fb-ec1dec88e1a7"
      },
      "source": [
        "# retrain with 9 epochs\n",
        "model = models.Sequential()\n",
        "model.add(layers.Dense(64, activation='relu', input_shape=(10000,)))\n",
        "model.add(layers.Dense(64, activation='relu'))\n",
        "model.add(layers.Dense(46, activation='softmax'))\n",
        "\n",
        "model.compile(optimizer='rmsprop',\n",
        "              loss='categorical_crossentropy',\n",
        "              metrics=['accuracy'])\n",
        "model.fit(partial_x_train,\n",
        "          partial_y_train,\n",
        "          epochs=9,\n",
        "          batch_size=512,\n",
        "          validation_data=(x_val, y_val))\n",
        "results = model.evaluate(x_test, one_hot_test_labels)"
      ],
      "execution_count": 35,
      "outputs": [
        {
          "output_type": "stream",
          "text": [
            "Epoch 1/9\n",
            "16/16 [==============================] - 1s 62ms/step - loss: 2.9856 - accuracy: 0.4329 - val_loss: 1.6326 - val_accuracy: 0.6460\n",
            "Epoch 2/9\n",
            "16/16 [==============================] - 1s 47ms/step - loss: 1.4397 - accuracy: 0.6942 - val_loss: 1.2742 - val_accuracy: 0.7140\n",
            "Epoch 3/9\n",
            "16/16 [==============================] - 1s 46ms/step - loss: 1.0447 - accuracy: 0.7764 - val_loss: 1.1077 - val_accuracy: 0.7700\n",
            "Epoch 4/9\n",
            "16/16 [==============================] - 1s 46ms/step - loss: 0.8188 - accuracy: 0.8214 - val_loss: 1.0183 - val_accuracy: 0.7810\n",
            "Epoch 5/9\n",
            "16/16 [==============================] - 1s 49ms/step - loss: 0.6286 - accuracy: 0.8661 - val_loss: 0.9617 - val_accuracy: 0.8070\n",
            "Epoch 6/9\n",
            "16/16 [==============================] - 1s 48ms/step - loss: 0.4970 - accuracy: 0.9034 - val_loss: 0.9199 - val_accuracy: 0.8060\n",
            "Epoch 7/9\n",
            "16/16 [==============================] - 1s 47ms/step - loss: 0.4138 - accuracy: 0.9167 - val_loss: 0.8854 - val_accuracy: 0.8220\n",
            "Epoch 8/9\n",
            "16/16 [==============================] - 1s 46ms/step - loss: 0.3372 - accuracy: 0.9308 - val_loss: 0.9248 - val_accuracy: 0.8040\n",
            "Epoch 9/9\n",
            "16/16 [==============================] - 1s 46ms/step - loss: 0.2634 - accuracy: 0.9461 - val_loss: 0.8883 - val_accuracy: 0.8090\n",
            "71/71 [==============================] - 0s 3ms/step - loss: 0.9832 - accuracy: 0.7885\n"
          ],
          "name": "stdout"
        }
      ]
    },
    {
      "cell_type": "code",
      "metadata": {
        "colab": {
          "base_uri": "https://localhost:8080/"
        },
        "id": "-WyCC5fjkkTP",
        "outputId": "9504b712-aed2-4d94-c7ee-f4bfb7fd8e41"
      },
      "source": [
        "results"
      ],
      "execution_count": 36,
      "outputs": [
        {
          "output_type": "execute_result",
          "data": {
            "text/plain": [
              "[0.9831912517547607, 0.7885128855705261]"
            ]
          },
          "metadata": {
            "tags": []
          },
          "execution_count": 36
        }
      ]
    },
    {
      "cell_type": "code",
      "metadata": {
        "colab": {
          "base_uri": "https://localhost:8080/"
        },
        "id": "wpQg-PgbknfN",
        "outputId": "eb6a487f-56ed-42be-bd5b-d10e419e2740"
      },
      "source": [
        "# retrain with larger layers, 128 units\n",
        "model = models.Sequential()\n",
        "model.add(layers.Dense(128, activation='relu', input_shape=(10000,)))\n",
        "model.add(layers.Dense(128, activation='relu'))\n",
        "model.add(layers.Dense(46, activation='softmax'))\n",
        "\n",
        "model.compile(optimizer='rmsprop',\n",
        "              loss='categorical_crossentropy',\n",
        "              metrics=['accuracy'])\n",
        "model.fit(partial_x_train,\n",
        "          partial_y_train,\n",
        "          epochs=20,\n",
        "          batch_size=512,\n",
        "          validation_data=(x_val, y_val))\n",
        "results = model.evaluate(x_test, one_hot_test_labels)"
      ],
      "execution_count": 37,
      "outputs": [
        {
          "output_type": "stream",
          "text": [
            "Epoch 1/20\n",
            "16/16 [==============================] - 2s 86ms/step - loss: 2.7879 - accuracy: 0.4381 - val_loss: 1.3895 - val_accuracy: 0.6900\n",
            "Epoch 2/20\n",
            "16/16 [==============================] - 1s 75ms/step - loss: 1.1461 - accuracy: 0.7548 - val_loss: 1.1250 - val_accuracy: 0.7480\n",
            "Epoch 3/20\n",
            "16/16 [==============================] - 1s 75ms/step - loss: 0.8070 - accuracy: 0.8281 - val_loss: 0.9960 - val_accuracy: 0.7790\n",
            "Epoch 4/20\n",
            "16/16 [==============================] - 1s 74ms/step - loss: 0.5990 - accuracy: 0.8721 - val_loss: 0.9141 - val_accuracy: 0.8050\n",
            "Epoch 5/20\n",
            "16/16 [==============================] - 1s 72ms/step - loss: 0.4387 - accuracy: 0.9075 - val_loss: 0.8653 - val_accuracy: 0.8190\n",
            "Epoch 6/20\n",
            "16/16 [==============================] - 1s 75ms/step - loss: 0.3186 - accuracy: 0.9300 - val_loss: 0.8728 - val_accuracy: 0.8170\n",
            "Epoch 7/20\n",
            "16/16 [==============================] - 1s 75ms/step - loss: 0.2449 - accuracy: 0.9471 - val_loss: 0.9720 - val_accuracy: 0.7830\n",
            "Epoch 8/20\n",
            "16/16 [==============================] - 1s 75ms/step - loss: 0.2128 - accuracy: 0.9488 - val_loss: 0.8781 - val_accuracy: 0.8180\n",
            "Epoch 9/20\n",
            "16/16 [==============================] - 1s 74ms/step - loss: 0.1728 - accuracy: 0.9550 - val_loss: 0.9313 - val_accuracy: 0.8080\n",
            "Epoch 10/20\n",
            "16/16 [==============================] - 1s 75ms/step - loss: 0.1448 - accuracy: 0.9579 - val_loss: 0.9143 - val_accuracy: 0.8200\n",
            "Epoch 11/20\n",
            "16/16 [==============================] - 1s 76ms/step - loss: 0.1403 - accuracy: 0.9583 - val_loss: 0.9664 - val_accuracy: 0.8180\n",
            "Epoch 12/20\n",
            "16/16 [==============================] - 1s 75ms/step - loss: 0.1189 - accuracy: 0.9636 - val_loss: 1.0141 - val_accuracy: 0.7990\n",
            "Epoch 13/20\n",
            "16/16 [==============================] - 1s 75ms/step - loss: 0.1248 - accuracy: 0.9587 - val_loss: 1.1044 - val_accuracy: 0.7860\n",
            "Epoch 14/20\n",
            "16/16 [==============================] - 1s 74ms/step - loss: 0.1205 - accuracy: 0.9587 - val_loss: 1.0264 - val_accuracy: 0.8070\n",
            "Epoch 15/20\n",
            "16/16 [==============================] - 1s 75ms/step - loss: 0.1081 - accuracy: 0.9629 - val_loss: 1.0307 - val_accuracy: 0.8130\n",
            "Epoch 16/20\n",
            "16/16 [==============================] - 1s 74ms/step - loss: 0.1041 - accuracy: 0.9613 - val_loss: 1.1155 - val_accuracy: 0.7970\n",
            "Epoch 17/20\n",
            "16/16 [==============================] - 1s 75ms/step - loss: 0.0978 - accuracy: 0.9641 - val_loss: 1.1061 - val_accuracy: 0.7980\n",
            "Epoch 18/20\n",
            "16/16 [==============================] - 1s 75ms/step - loss: 0.0967 - accuracy: 0.9631 - val_loss: 1.1047 - val_accuracy: 0.8040\n",
            "Epoch 19/20\n",
            "16/16 [==============================] - 1s 75ms/step - loss: 0.0975 - accuracy: 0.9643 - val_loss: 1.0795 - val_accuracy: 0.8010\n",
            "Epoch 20/20\n",
            "16/16 [==============================] - 1s 74ms/step - loss: 0.0969 - accuracy: 0.9610 - val_loss: 1.1009 - val_accuracy: 0.8040\n",
            "71/71 [==============================] - 0s 3ms/step - loss: 1.3204 - accuracy: 0.7787\n"
          ],
          "name": "stdout"
        }
      ]
    },
    {
      "cell_type": "code",
      "metadata": {
        "colab": {
          "base_uri": "https://localhost:8080/"
        },
        "id": "imu4Mufil35v",
        "outputId": "7d13cf26-aa7d-429b-dfaf-0a96bca49c9a"
      },
      "source": [
        "# not any better\n",
        "# let's try one layer, 64 units\n",
        "model = models.Sequential()\n",
        "model.add(layers.Dense(64, activation='relu', input_shape=(10000,)))\n",
        "model.add(layers.Dense(46, activation='softmax'))\n",
        "\n",
        "model.compile(optimizer='rmsprop',\n",
        "              loss='categorical_crossentropy',\n",
        "              metrics=['accuracy'])\n",
        "model.fit(partial_x_train,\n",
        "          partial_y_train,\n",
        "          epochs=20,\n",
        "          batch_size=512,\n",
        "          validation_data=(x_val, y_val))\n",
        "results = model.evaluate(x_test, one_hot_test_labels)"
      ],
      "execution_count": 39,
      "outputs": [
        {
          "output_type": "stream",
          "text": [
            "Epoch 1/20\n",
            "16/16 [==============================] - 1s 57ms/step - loss: 3.1006 - accuracy: 0.4637 - val_loss: 1.8461 - val_accuracy: 0.6560\n",
            "Epoch 2/20\n",
            "16/16 [==============================] - 1s 46ms/step - loss: 1.5878 - accuracy: 0.7077 - val_loss: 1.3700 - val_accuracy: 0.7280\n",
            "Epoch 3/20\n",
            "16/16 [==============================] - 1s 46ms/step - loss: 1.1238 - accuracy: 0.7811 - val_loss: 1.1547 - val_accuracy: 0.7630\n",
            "Epoch 4/20\n",
            "16/16 [==============================] - 1s 48ms/step - loss: 0.8671 - accuracy: 0.8292 - val_loss: 1.0267 - val_accuracy: 0.7940\n",
            "Epoch 5/20\n",
            "16/16 [==============================] - 1s 46ms/step - loss: 0.6877 - accuracy: 0.8660 - val_loss: 0.9459 - val_accuracy: 0.8060\n",
            "Epoch 6/20\n",
            "16/16 [==============================] - 1s 46ms/step - loss: 0.5602 - accuracy: 0.8918 - val_loss: 0.8940 - val_accuracy: 0.8180\n",
            "Epoch 7/20\n",
            "16/16 [==============================] - 1s 46ms/step - loss: 0.4456 - accuracy: 0.9101 - val_loss: 0.8634 - val_accuracy: 0.8250\n",
            "Epoch 8/20\n",
            "16/16 [==============================] - 1s 45ms/step - loss: 0.3751 - accuracy: 0.9256 - val_loss: 0.8386 - val_accuracy: 0.8240\n",
            "Epoch 9/20\n",
            "16/16 [==============================] - 1s 47ms/step - loss: 0.3190 - accuracy: 0.9397 - val_loss: 0.8337 - val_accuracy: 0.8280\n",
            "Epoch 10/20\n",
            "16/16 [==============================] - 1s 46ms/step - loss: 0.2710 - accuracy: 0.9416 - val_loss: 0.8239 - val_accuracy: 0.8330\n",
            "Epoch 11/20\n",
            "16/16 [==============================] - 1s 47ms/step - loss: 0.2200 - accuracy: 0.9531 - val_loss: 0.8327 - val_accuracy: 0.8260\n",
            "Epoch 12/20\n",
            "16/16 [==============================] - 1s 45ms/step - loss: 0.1922 - accuracy: 0.9543 - val_loss: 0.8355 - val_accuracy: 0.8230\n",
            "Epoch 13/20\n",
            "16/16 [==============================] - 1s 47ms/step - loss: 0.1807 - accuracy: 0.9524 - val_loss: 0.8372 - val_accuracy: 0.8310\n",
            "Epoch 14/20\n",
            "16/16 [==============================] - 1s 46ms/step - loss: 0.1611 - accuracy: 0.9552 - val_loss: 0.8465 - val_accuracy: 0.8260\n",
            "Epoch 15/20\n",
            "16/16 [==============================] - 1s 45ms/step - loss: 0.1477 - accuracy: 0.9555 - val_loss: 0.8503 - val_accuracy: 0.8210\n",
            "Epoch 16/20\n",
            "16/16 [==============================] - 1s 45ms/step - loss: 0.1300 - accuracy: 0.9576 - val_loss: 0.8743 - val_accuracy: 0.8260\n",
            "Epoch 17/20\n",
            "16/16 [==============================] - 1s 46ms/step - loss: 0.1193 - accuracy: 0.9603 - val_loss: 0.8846 - val_accuracy: 0.8190\n",
            "Epoch 18/20\n",
            "16/16 [==============================] - 1s 47ms/step - loss: 0.1089 - accuracy: 0.9633 - val_loss: 0.9160 - val_accuracy: 0.8180\n",
            "Epoch 19/20\n",
            "16/16 [==============================] - 1s 46ms/step - loss: 0.1066 - accuracy: 0.9596 - val_loss: 0.9040 - val_accuracy: 0.8170\n",
            "Epoch 20/20\n",
            "16/16 [==============================] - 1s 46ms/step - loss: 0.1017 - accuracy: 0.9621 - val_loss: 0.9354 - val_accuracy: 0.8200\n",
            "71/71 [==============================] - 0s 2ms/step - loss: 1.0784 - accuracy: 0.7947\n"
          ],
          "name": "stdout"
        }
      ]
    },
    {
      "cell_type": "code",
      "metadata": {
        "colab": {
          "base_uri": "https://localhost:8080/"
        },
        "id": "DJaUm8mvmXl_",
        "outputId": "7c47f9b5-4ee1-4db0-f495-57a9afaa800c"
      },
      "source": [
        "model = models.Sequential()\n",
        "model.add(layers.Dense(64, activation='relu', input_shape=(10000,)))\n",
        "model.add(layers.Dense(46, activation='softmax'))\n",
        "\n",
        "model.compile(optimizer='rmsprop',\n",
        "              loss='categorical_crossentropy',\n",
        "              metrics=['accuracy'])\n",
        "model.fit(partial_x_train,\n",
        "          partial_y_train,\n",
        "          epochs=10,\n",
        "          batch_size=512,\n",
        "          validation_data=(x_val, y_val))\n",
        "results = model.evaluate(x_test, one_hot_test_labels)"
      ],
      "execution_count": 40,
      "outputs": [
        {
          "output_type": "stream",
          "text": [
            "Epoch 1/10\n",
            "16/16 [==============================] - 1s 57ms/step - loss: 3.1262 - accuracy: 0.4641 - val_loss: 1.8992 - val_accuracy: 0.6450\n",
            "Epoch 2/10\n",
            "16/16 [==============================] - 1s 46ms/step - loss: 1.6336 - accuracy: 0.7114 - val_loss: 1.3917 - val_accuracy: 0.7080\n",
            "Epoch 3/10\n",
            "16/16 [==============================] - 1s 47ms/step - loss: 1.1398 - accuracy: 0.7868 - val_loss: 1.1570 - val_accuracy: 0.7750\n",
            "Epoch 4/10\n",
            "16/16 [==============================] - 1s 45ms/step - loss: 0.8751 - accuracy: 0.8273 - val_loss: 1.0203 - val_accuracy: 0.7990\n",
            "Epoch 5/10\n",
            "16/16 [==============================] - 1s 46ms/step - loss: 0.6943 - accuracy: 0.8669 - val_loss: 0.9468 - val_accuracy: 0.8030\n",
            "Epoch 6/10\n",
            "16/16 [==============================] - 1s 46ms/step - loss: 0.5608 - accuracy: 0.8962 - val_loss: 0.8878 - val_accuracy: 0.8170\n",
            "Epoch 7/10\n",
            "16/16 [==============================] - 1s 46ms/step - loss: 0.4544 - accuracy: 0.9127 - val_loss: 0.8575 - val_accuracy: 0.8230\n",
            "Epoch 8/10\n",
            "16/16 [==============================] - 1s 45ms/step - loss: 0.3801 - accuracy: 0.9258 - val_loss: 0.8294 - val_accuracy: 0.8240\n",
            "Epoch 9/10\n",
            "16/16 [==============================] - 1s 46ms/step - loss: 0.3095 - accuracy: 0.9378 - val_loss: 0.8208 - val_accuracy: 0.8310\n",
            "Epoch 10/10\n",
            "16/16 [==============================] - 1s 45ms/step - loss: 0.2717 - accuracy: 0.9407 - val_loss: 0.8253 - val_accuracy: 0.8250\n",
            "71/71 [==============================] - 0s 3ms/step - loss: 0.9073 - accuracy: 0.7947\n"
          ],
          "name": "stdout"
        }
      ]
    },
    {
      "cell_type": "code",
      "metadata": {
        "colab": {
          "base_uri": "https://localhost:8080/"
        },
        "id": "SUH7MkDrmnjJ",
        "outputId": "2f5ef356-dbf1-44b8-e606-3ddabceeca7d"
      },
      "source": [
        "model = models.Sequential()\n",
        "model.add(layers.Dense(64, activation='relu', input_shape=(10000,)))\n",
        "model.add(layers.Dense(64, activation='relu'))\n",
        "model.add(layers.Dense(64, activation='relu'))\n",
        "model.add(layers.Dense(46, activation='softmax'))\n",
        "\n",
        "model.compile(optimizer='rmsprop',\n",
        "              loss='categorical_crossentropy',\n",
        "              metrics=['accuracy'])\n",
        "model.fit(partial_x_train,\n",
        "          partial_y_train,\n",
        "          epochs=20,\n",
        "          batch_size=512,\n",
        "          validation_data=(x_val, y_val))\n",
        "results = model.evaluate(x_test, one_hot_test_labels)"
      ],
      "execution_count": 41,
      "outputs": [
        {
          "output_type": "stream",
          "text": [
            "Epoch 1/20\n",
            "16/16 [==============================] - 1s 58ms/step - loss: 3.1852 - accuracy: 0.2877 - val_loss: 1.7202 - val_accuracy: 0.6290\n",
            "Epoch 2/20\n",
            "16/16 [==============================] - 1s 46ms/step - loss: 1.5606 - accuracy: 0.6596 - val_loss: 1.3205 - val_accuracy: 0.6940\n",
            "Epoch 3/20\n",
            "16/16 [==============================] - 1s 46ms/step - loss: 1.1155 - accuracy: 0.7482 - val_loss: 1.1463 - val_accuracy: 0.7350\n",
            "Epoch 4/20\n",
            "16/16 [==============================] - 1s 46ms/step - loss: 0.8659 - accuracy: 0.8025 - val_loss: 1.0464 - val_accuracy: 0.7640\n",
            "Epoch 5/20\n",
            "16/16 [==============================] - 1s 45ms/step - loss: 0.6991 - accuracy: 0.8452 - val_loss: 0.9715 - val_accuracy: 0.7940\n",
            "Epoch 6/20\n",
            "16/16 [==============================] - 1s 45ms/step - loss: 0.5436 - accuracy: 0.8814 - val_loss: 1.0409 - val_accuracy: 0.7580\n",
            "Epoch 7/20\n",
            "16/16 [==============================] - 1s 47ms/step - loss: 0.4262 - accuracy: 0.9070 - val_loss: 0.9124 - val_accuracy: 0.8100\n",
            "Epoch 8/20\n",
            "16/16 [==============================] - 1s 46ms/step - loss: 0.3388 - accuracy: 0.9297 - val_loss: 1.0162 - val_accuracy: 0.7820\n",
            "Epoch 9/20\n",
            "16/16 [==============================] - 1s 46ms/step - loss: 0.2977 - accuracy: 0.9363 - val_loss: 0.9322 - val_accuracy: 0.8020\n",
            "Epoch 10/20\n",
            "16/16 [==============================] - 1s 46ms/step - loss: 0.2460 - accuracy: 0.9435 - val_loss: 0.9657 - val_accuracy: 0.8060\n",
            "Epoch 11/20\n",
            "16/16 [==============================] - 1s 45ms/step - loss: 0.1859 - accuracy: 0.9554 - val_loss: 1.0239 - val_accuracy: 0.7950\n",
            "Epoch 12/20\n",
            "16/16 [==============================] - 1s 47ms/step - loss: 0.1842 - accuracy: 0.9518 - val_loss: 1.0132 - val_accuracy: 0.8030\n",
            "Epoch 13/20\n",
            "16/16 [==============================] - 1s 46ms/step - loss: 0.1577 - accuracy: 0.9589 - val_loss: 1.1480 - val_accuracy: 0.7880\n",
            "Epoch 14/20\n",
            "16/16 [==============================] - 1s 45ms/step - loss: 0.1514 - accuracy: 0.9583 - val_loss: 1.0527 - val_accuracy: 0.7950\n",
            "Epoch 15/20\n",
            "16/16 [==============================] - 1s 45ms/step - loss: 0.1287 - accuracy: 0.9595 - val_loss: 1.1277 - val_accuracy: 0.7890\n",
            "Epoch 16/20\n",
            "16/16 [==============================] - 1s 46ms/step - loss: 0.1313 - accuracy: 0.9561 - val_loss: 1.1056 - val_accuracy: 0.8040\n",
            "Epoch 17/20\n",
            "16/16 [==============================] - 1s 46ms/step - loss: 0.1140 - accuracy: 0.9648 - val_loss: 1.2375 - val_accuracy: 0.7890\n",
            "Epoch 18/20\n",
            "16/16 [==============================] - 1s 47ms/step - loss: 0.1115 - accuracy: 0.9647 - val_loss: 1.2171 - val_accuracy: 0.7880\n",
            "Epoch 19/20\n",
            "16/16 [==============================] - 1s 46ms/step - loss: 0.1038 - accuracy: 0.9661 - val_loss: 1.2491 - val_accuracy: 0.7810\n",
            "Epoch 20/20\n",
            "16/16 [==============================] - 1s 45ms/step - loss: 0.1095 - accuracy: 0.9625 - val_loss: 1.2079 - val_accuracy: 0.8050\n",
            "71/71 [==============================] - 0s 2ms/step - loss: 1.3951 - accuracy: 0.7769\n"
          ],
          "name": "stdout"
        }
      ]
    },
    {
      "cell_type": "code",
      "metadata": {
        "id": "oyDKn8mAm3VO"
      },
      "source": [
        "# looks like models with one hidden layer, 64 units had highest accuracy"
      ],
      "execution_count": 42,
      "outputs": []
    },
    {
      "cell_type": "code",
      "metadata": {
        "id": "-cka7nIPnRbZ"
      },
      "source": [
        ""
      ],
      "execution_count": null,
      "outputs": []
    }
  ]
}